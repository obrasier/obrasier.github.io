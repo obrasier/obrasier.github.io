{
 "cells": [
  {
   "cell_type": "code",
   "execution_count": 1,
   "metadata": {},
   "outputs": [],
   "source": [
    "import pandas as pd\n",
    "import numpy as np\n",
    "import glob\n",
    "import datetime"
   ]
  },
  {
   "cell_type": "markdown",
   "metadata": {},
   "source": [
    "This is a follow-up post from my\n",
    "\n",
    "Okay we've downloaded the files we need from [this dataset](https://www.kaggle.com/cclayford/cricinfo-statsguru-data/data). I just run these bash commands to rename the files for easier shell handling <br> \n",
    "\n",
    "find *.csv -exec rename 's/\\s/_/g' {} \\;\n",
    "\n",
    "Then to make all the files lowercase:\n",
    "find *.csv -exec rename 'y/A-Z/a-z/' {} \\;\n",
    "\n",
    "To fix up the headings, we do the same for the first line in all the csv files.\n",
    "\n",
    "1s/.*/\\L&/ < on the first line, make sure all characters are lowercase \\L\n",
    "1s/ /_/g ... on the first line, replace all spaces with underscores, globally\n",
    "\n",
    "find *.csv -exec sed -i '1s/.*/\\L&/;1s/ /_&/' {} \\;\n",
    "\n",
    "Okay that's it. We've done the file processing, now to load them all into jupyter. \n",
    "\n",
    "I'm just going to be looking at the Men's test individual data. But you could do the same for the women, ODIs, etc. Just load those into the dataframe instead."
   ]
  },
  {
   "cell_type": "code",
   "execution_count": 2,
   "metadata": {},
   "outputs": [],
   "source": [
    "all_files = glob.glob('data/men_test_player_innings_stats_-_*.csv')\n",
    "\n",
    "# low_memory=False just tries to figure out the data type of large files.\n",
    "# we don't really need this, because we'll fix these later.\n",
    "df = pd.concat((pd.read_csv(f, low_memory=False) for f in all_files))\n"
   ]
  },
  {
   "cell_type": "markdown",
   "metadata": {},
   "source": [
    "There's a few things we should do before we can start processing the data.\n",
    "- drop the duplicate rows\n",
    "- change the type of data to the appropriate data type in each column (I *definitely* knew about this before starting the post, yep, *definitely*)\n",
    "- Sort by date - which will be a handy default"
   ]
  },
  {
   "cell_type": "code",
   "execution_count": 3,
   "metadata": {},
   "outputs": [],
   "source": [
    "df = df.drop_duplicates()\n",
    "\n",
    "int_cols = ['innings_runs_scored_num', 'innings_minutes_batted', \n",
    "            'innings_batted_flag', 'innings_not_out_flag', 'innings_bowled_flag',\n",
    "            'innings_balls_faced', 'innings_boundary_fours',\n",
    "            'innings_boundary_sixes', 'innings_maidens_bowled',\n",
    "            'innings_runs_conceded', 'innings_wickets_taken',\n",
    "            '4_wickets', '5_wickets', '10_wickets'\n",
    "           ]\n",
    "\n",
    "for col in int_cols:\n",
    "    # use to_numeric to convery the - to NaN (not-a-number)\n",
    "    # \"Int32\" has mixed NaNs and integers\n",
    "    df[col] = pd.to_numeric(df[col], errors='coerce').astype(\"Int32\")\n",
    "    \n",
    "\n",
    "df.innings_economy_rate = pd.to_numeric(df.innings_economy_rate, errors='coerce')\n",
    "df.innings_date = pd.to_datetime(df.innings_date, infer_datetime_format=True)\n",
    "df = df.sort_values(by=['innings_date', 'innings_number'])\n",
    "df.reset_index(drop=True, inplace=True)\n",
    "all_players = df"
   ]
  },
  {
   "cell_type": "markdown",
   "metadata": {},
   "source": [
    "Okay so last blog we got it working. But it takes about ~5 minutes to run a query. Too fucking slow. We need to stop fucking around and make it run faster. The reason why it was running slow previously because I was doing it in a dumb way. Here was the method before: <br>\n",
    "\n",
    "- get a separate dataframe of all the players\n",
    "- for each player of those, filter the original data for each player and then calculate the max consecutive number of matches\n",
    "- compile the results\n",
    "\n",
    "The reason this was slow is that each players innings could be anywhere in the dataframe. Instead, we sort the data by player, date, innings number (in that order). Since the data is pre-sorted, it's much faster to mark every batting/bowling stat as matching the criteria. Then split up the dataframe by each player and do it that way. It also returns the index from the original dataset so it's easy to lookup the innings where the data came from. \n",
    "\n",
    "With all of those optimisations, queries now take ~15 seconds. Not actually as fast as I was hoping, but much better than going away to boil the kettle, come back and it's still not bloody done. Good-e-fucking-nuf mate.\n",
    "\n",
    "Here's the faster version below. It also supports the same player matching a criteria multiple times, unlike the crappy old version.\n"
   ]
  },
  {
   "cell_type": "code",
   "execution_count": 4,
   "metadata": {},
   "outputs": [],
   "source": [
    "def get_max_consecutive(group):\n",
    "    # this works for each player\n",
    "    # first get all matches and compare with a shifted version to how many are the same in a row\n",
    "    df_bool = group['criteria_match'] != group['criteria_match'].shift()\n",
    "    # take the cumulative sum of the matches in a row to get the number of each\n",
    "    df_cumsum = df_bool.cumsum()\n",
    "    # then groupby the size of each group\n",
    "    search_groups = group.groupby(df_cumsum)\n",
    "    \n",
    "    # the above will give us the size, but we also want the raw data out of each\n",
    "    # so below we are getting the indexes from the original dataset so we can look them up later\n",
    "    \n",
    "    # what we want is the longest group where criteria_match == True\n",
    "    # make a dictionary with the key the name, but store each length\n",
    "    lengths = {n: len(g) for n,g in search_groups if g['criteria_match'].all() == True}\n",
    "    try:\n",
    "        # m is the maximum number of matches\n",
    "        m = max(lengths.values())\n",
    "    except ValueError:\n",
    "        # if there are no matches, return 0 and not-a-number\n",
    "        return pd.DataFrame({'maximum': [0], 'num_results':0, 'indexes':[np.nan]})\n",
    "    # get a list of groups where the match is the players maximum value\n",
    "    # includes if a player matches multiple times\n",
    "    all_groups = [search_groups.get_group(key) for key,val in lengths.items()]\n",
    "    max_groups_list = [search_groups.get_group(key) for key,val in lengths.items() if val == m]\n",
    "    num_items = len(max_groups_list)\n",
    "    return pd.DataFrame({'maximum': [m]*num_items, \n",
    "                         'num_results': [num_items]*num_items, \n",
    "                         'indexes': [g['index'].values for g in max_groups_list],\n",
    "                        })\n",
    "    \n",
    "def get_all_consecutive(criteria, data, sort_order=['innings_player', 'innings_date', 'innings_number']):\n",
    "    data = data.sort_values(by=sort_order)\n",
    "    data.reset_index(inplace=True)\n",
    "    # drop all columns where the values were after doesn't exist\n",
    "    all_columns = list(data.columns.values)\n",
    "    for c in all_columns:\n",
    "        if c in criteria:\n",
    "            data = data[data[c] != np.nan]\n",
    "    # find all matches and set them to true, set non-matches to False\n",
    "    data.loc[data.eval(criteria), 'criteria_match'] = True\n",
    "    data['criteria_match'].fillna(False, inplace=True)\n",
    "    # group by all the search item, and then actually do the check for each one.\n",
    "    search_item = all_columns[1]\n",
    "    grp = data.groupby(search_item)\n",
    "    results = grp.apply(get_max_consecutive)\n",
    "    return results"
   ]
  },
  {
   "cell_type": "markdown",
   "metadata": {},
   "source": [
    "Read the code comments for explanations of what each part is doing. I tried to make it clear. I'll tell you know, that section took me a four or five days on and off. For like 20 lines of code, and most of those I'd written already. What a brainfuck. Okay, let's try this bloody thing out!\n",
    "\n",
    "First we'll just get the all_consecutive that match a particular `criteria`. In this case the players who scored the most runs over 40 in a row."
   ]
  },
  {
   "cell_type": "code",
   "execution_count": 5,
   "metadata": {},
   "outputs": [
    {
     "name": "stdout",
     "output_type": "stream",
     "text": [
      "                  maximum  num_results  \\\n",
      "innings_player                           \n",
      "JH Kallis      0        9            1   \n",
      "ED Weekes      0        9            1   \n",
      "Inzamam-ul-Haq 0        8            1   \n",
      "IVA Richards   0        8            1   \n",
      "KF Barrington  0        8            1   \n",
      "A Flower       0        8            1   \n",
      "GS Sobers      0        7            1   \n",
      "Javed Miandad  0        7            1   \n",
      "KL Rahul       0        7            1   \n",
      "S Chanderpaul  0        7            1   \n",
      "\n",
      "                                                            indexes  \n",
      "innings_player                                                       \n",
      "JH Kallis      0  [131980, 132561, 132651, 132935, 133103, 13318...  \n",
      "ED Weekes      0  [23536, 24007, 24072, 24291, 24336, 24469, 245...  \n",
      "Inzamam-ul-Haq 0  [101702, 101823, 101845, 102044, 102175, 10221...  \n",
      "IVA Richards   0  [68896, 69313, 69556, 69601, 70364, 70409, 704...  \n",
      "KF Barrington  0  [42547, 42591, 42613, 42657, 42702, 42790, 428...  \n",
      "A Flower       0  [119766, 119788, 120073, 120116, 120250, 12027...  \n",
      "GS Sobers      0  [35073, 35241, 35394, 35436, 35590, 35745, 35789]  \n",
      "Javed Miandad  0  [75473, 75538, 75605, 75671, 76655, 76700, 76789]  \n",
      "KL Rahul       0  [179630, 179675, 180018, 180181, 180246, 18096...  \n",
      "S Chanderpaul  0  [144318, 145407, 145715, 145759, 145781, 14582...  \n"
     ]
    }
   ],
   "source": [
    "criteria = 'innings_runs_scored_num > 40'\n",
    "results = get_all_consecutive(criteria, all_players.copy())\n",
    "results.sort_values(by=['maximum'], ascending=False, inplace=True)\n",
    "print(results.head(10))"
   ]
  },
  {
   "cell_type": "markdown",
   "metadata": {},
   "source": [
    "We want more just that players and how many times that player matched that condition. We want to get the *actual* innings that the player achieved. That's what that `indexes` column is for. It's a list of the indivdidual indexes from the original dataset so we can look them up later. Let's write a function that does the whole thing, and returns the innings for only the maximum results."
   ]
  },
  {
   "cell_type": "code",
   "execution_count": 6,
   "metadata": {},
   "outputs": [],
   "source": [
    "def get_most_consecutive_individual(criteria, data=all_players.copy(), sort_order=['innings_player', 'innings_date', 'innings_number']):\n",
    "    results = get_all_consecutive(criteria, data, sort_order)\n",
    "    # get the maximum result\n",
    "    max_value = results['maximum'].max()\n",
    "    # get all matches to the maximum\n",
    "    max_results = results[results['maximum'] == max_value]\n",
    "    # get the matches out of the original dataset to get the innings\n",
    "    result_data = data.reindex(np.concatenate(max_results.indexes.values))\n",
    "    return max_value, result_data"
   ]
  },
  {
   "cell_type": "markdown",
   "metadata": {},
   "source": [
    "Then we can call the function and print only the columns we're interested in."
   ]
  },
  {
   "cell_type": "code",
   "execution_count": 7,
   "metadata": {},
   "outputs": [
    {
     "name": "stdout",
     "output_type": "stream",
     "text": [
      "9\n",
      "       innings_player innings_runs_scored     opposition        ground  \\\n",
      "23536       ED Weekes                 141      v England      Kingston   \n",
      "24007       ED Weekes                 128        v India         Delhi   \n",
      "24072       ED Weekes                 194        v India   Mumbai (BS)   \n",
      "24291       ED Weekes                 162        v India       Kolkata   \n",
      "24336       ED Weekes                 101        v India       Kolkata   \n",
      "24469       ED Weekes                  90        v India       Chennai   \n",
      "24534       ED Weekes                  56        v India   Mumbai (BS)   \n",
      "24578       ED Weekes                  48        v India   Mumbai (BS)   \n",
      "25490       ED Weekes                  52      v England    Manchester   \n",
      "131980      JH Kallis                  43     v Pakistan    Faisalabad   \n",
      "132561      JH Kallis                 158  v West Indies  Johannesburg   \n",
      "132651      JH Kallis                  44  v West Indies  Johannesburg   \n",
      "132935      JH Kallis                 177  v West Indies        Durban   \n",
      "133103      JH Kallis                  73  v West Indies     Cape Town   \n",
      "133188      JH Kallis                130*  v West Indies     Cape Town   \n",
      "133277      JH Kallis                130*  v West Indies     Centurion   \n",
      "133584      JH Kallis                  92  v New Zealand      Hamilton   \n",
      "133627      JH Kallis                150*  v New Zealand      Hamilton   \n",
      "\n",
      "       innings_date  innings_minutes_batted innings_number  \n",
      "23536    1948-03-27                    <NA>              2  \n",
      "24007    1948-11-10                     194              1  \n",
      "24072    1948-12-09                    <NA>              1  \n",
      "24291    1948-12-31                     188              1  \n",
      "24336    1948-12-31                    <NA>              3  \n",
      "24469    1949-01-27                    <NA>              1  \n",
      "24534    1949-02-04                    <NA>              1  \n",
      "24578    1949-02-04                    <NA>              3  \n",
      "25490    1950-06-08                     103              2  \n",
      "131980   2003-10-24                     174              3  \n",
      "132561   2003-12-12                     411              1  \n",
      "132651   2003-12-12                      96              3  \n",
      "132935   2003-12-26                     479              2  \n",
      "133103   2004-01-02                     207              1  \n",
      "133188   2004-01-02                     262              3  \n",
      "133277   2004-01-16                     247              1  \n",
      "133584   2004-03-10                     239              1  \n",
      "133627   2004-03-10                     406              3  \n",
      "CPU times: user 49.7 s, sys: 7.9 ms, total: 49.8 s\n",
      "Wall time: 49.7 s\n"
     ]
    }
   ],
   "source": [
    "%%time\n",
    "criteria = 'innings_runs_scored_num > 40'\n",
    "max_value, results = get_most_consecutive_individual(criteria)\n",
    "print(max_value)\n",
    "cols_to_print = ['innings_player', 'innings_runs_scored', 'opposition' ,'ground', 'innings_date', \n",
    "                 'innings_minutes_batted', 'innings_number']\n",
    "print(results[cols_to_print])"
   ]
  },
  {
   "cell_type": "markdown",
   "metadata": {},
   "source": [
    "The good thing about this system is, we can add as many conditions as we like. So what's the most number of matches where a player has scored over 60 and was also not_out. We can search by using the column heading and a condition as many conditions as we like (joined by `and`)"
   ]
  },
  {
   "cell_type": "code",
   "execution_count": 8,
   "metadata": {},
   "outputs": [
    {
     "name": "stdout",
     "output_type": "stream",
     "text": [
      "3\n",
      "       innings_player innings_runs_scored    opposition         ground  \\\n",
      "126481      JH Kallis                 61*   v Australia         Durban   \n",
      "128241      JH Kallis                 75*  v Bangladesh    East London   \n",
      "128394      JH Kallis                139*  v Bangladesh  Potchefstroom   \n",
      "176275    LRPL Taylor                173*    v Zimbabwe       Bulawayo   \n",
      "176562    LRPL Taylor                124*    v Zimbabwe       Bulawayo   \n",
      "176606    LRPL Taylor                 67*    v Zimbabwe       Bulawayo   \n",
      "126787  S Chanderpaul                 67*       v India  Port of Spain   \n",
      "126898  S Chanderpaul                101*       v India     Bridgetown   \n",
      "126985  S Chanderpaul                136*       v India      St John's   \n",
      "134993  S Chanderpaul                101*  v Bangladesh       Kingston   \n",
      "135332  S Chanderpaul                128*     v England         Lord's   \n",
      "135376  S Chanderpaul                 97*     v England         Lord's   \n",
      "149100  S Chanderpaul                107*   v Australia    North Sound   \n",
      "149145  S Chanderpaul                 77*   v Australia    North Sound   \n",
      "149254  S Chanderpaul                 79*   v Australia     Bridgetown   \n",
      "170381  S Chanderpaul                 85*  v Bangladesh      Kingstown   \n",
      "170468  S Chanderpaul                 84*  v Bangladesh     Gros Islet   \n",
      "170512  S Chanderpaul                101*  v Bangladesh     Gros Islet   \n",
      "\n",
      "       innings_date  innings_minutes_batted innings_number  \n",
      "126481   2002-03-15                     159              4  \n",
      "128241   2002-10-18                     185              1  \n",
      "128394   2002-10-25                     266              2  \n",
      "176275   2016-07-28                     365              2  \n",
      "176562   2016-08-06                     240              1  \n",
      "176606   2016-08-06                     125              3  \n",
      "126787   2002-04-19                     260              4  \n",
      "126898   2002-05-02                     365              2  \n",
      "126985   2002-05-10                     675              2  \n",
      "134993   2004-06-04                     271              2  \n",
      "135332   2004-07-22                     383              2  \n",
      "135376   2004-07-22                     231              4  \n",
      "149100   2008-05-30                     352              2  \n",
      "149145   2008-05-30                     336              4  \n",
      "149254   2008-06-12                     226              2  \n",
      "170381   2014-09-05                     302              1  \n",
      "170468   2014-09-13                     268              1  \n",
      "170512   2014-09-13                     173              3  \n"
     ]
    }
   ],
   "source": [
    "criteria = 'innings_runs_scored_num > 60 and innings_not_out_flag == 1'\n",
    "max_value, results = get_most_consecutive_individual(criteria)\n",
    "print(max_value)\n",
    "cols_to_print = ['innings_player', 'innings_runs_scored', 'opposition' ,'ground', 'innings_date', \n",
    "                 'innings_minutes_batted', 'innings_number']\n",
    "print(results[cols_to_print])"
   ]
  },
  {
   "cell_type": "markdown",
   "metadata": {},
   "source": [
    "So the most in test history is 3. But Chanderpaul has done that *four fucking times*. Also, I can't tell you how satisfying it is when my queries run in a few seconds. Lets try another query, what's most number of times in a row someone has batted more than 200 minutes, but not scored a century?"
   ]
  },
  {
   "cell_type": "code",
   "execution_count": 9,
   "metadata": {},
   "outputs": [
    {
     "name": "stdout",
     "output_type": "stream",
     "text": [
      "4\n",
      "       innings_player innings_runs_scored      opposition         ground  \\\n",
      "73183        DI Gower                  74         v India        Kolkata   \n",
      "73338        DI Gower                  64         v India        Chennai   \n",
      "73382        DI Gower                  85         v India         Kanpur   \n",
      "73535        DI Gower                  89     v Sri Lanka  Colombo (PSS)   \n",
      "180059       JA Raval                  80  v South Africa     Wellington   \n",
      "180170       JA Raval                  88  v South Africa       Hamilton   \n",
      "182351       JA Raval                  42   v West Indies     Wellington   \n",
      "182567       JA Raval                  84   v West Indies       Hamilton   \n",
      "103824       RG Twose                  36         v India        Cuttack   \n",
      "104275       RG Twose                  59      v Pakistan   Christchurch   \n",
      "104351       RG Twose                 51*      v Pakistan   Christchurch   \n",
      "104682       RG Twose                  42      v Zimbabwe       Hamilton   \n",
      "149145  S Chanderpaul                 77*     v Australia    North Sound   \n",
      "149254  S Chanderpaul                 79*     v Australia     Bridgetown   \n",
      "149300  S Chanderpaul                  50     v Australia     Bridgetown   \n",
      "150729  S Chanderpaul                  76   v New Zealand        Dunedin   \n",
      "\n",
      "       innings_date  innings_minutes_batted innings_number  \n",
      "73183    1982-01-01                     235              3  \n",
      "73338    1982-01-13                     215              2  \n",
      "73382    1982-01-30                     257              1  \n",
      "73535    1982-02-17                     256              2  \n",
      "180059   2017-03-16                     253              3  \n",
      "180170   2017-03-25                     396              2  \n",
      "182351   2017-12-01                     220              2  \n",
      "182567   2017-12-09                     231              1  \n",
      "103824   1995-11-08                     204              2  \n",
      "104275   1995-12-08                     210              2  \n",
      "104351   1995-12-08                     257              4  \n",
      "104682   1996-01-13                     227              1  \n",
      "149145   2008-05-30                     336              4  \n",
      "149254   2008-06-12                     226              2  \n",
      "149300   2008-06-12                     201              4  \n",
      "150729   2008-12-11                     281              2  \n"
     ]
    }
   ],
   "source": [
    "criteria = 'innings_runs_scored_num < 100 and innings_minutes_batted > 200'\n",
    "max_value, results = get_most_consecutive_individual(criteria)\n",
    "print(max_value)\n",
    "print(results[cols_to_print])"
   ]
  },
  {
   "cell_type": "markdown",
   "metadata": {},
   "source": [
    "Our mate Chanderpaul again. Never thought of him as a slow-poke like a Gower. But there you go. You may be wondering what the `sort_order` is for. Well, individual/time is the most likely order. So the default is to use \n",
    "`['innings_player', 'innings_date', 'innings_number']` as the search order. \n",
    "\n",
    "What if we wanted to instead, find out who did something at a particular ground, or against a particular opposition. Let's see the most innings in Kolkata where bowlers have taken at least 3 wickets."
   ]
  },
  {
   "cell_type": "code",
   "execution_count": 10,
   "metadata": {},
   "outputs": [
    {
     "name": "stdout",
     "output_type": "stream",
     "text": [
      "innings_player     \n",
      "Mohammed Shami    0    5\n",
      "J Srinath         0    4\n",
      "A Kumble          0    4\n",
      "R Benaud          0    4\n",
      "BS Chandrasekhar  0    3\n",
      "AME Roberts       0    3\n",
      "Ghulam Ahmed      0    3\n",
      "Harbhajan Singh   0    3\n",
      "WW Hall           0    2\n",
      "SA Durani         0    2\n",
      "Name: maximum, dtype: int64\n"
     ]
    }
   ],
   "source": [
    "# double quotes around the text (string) is important\n",
    "criteria = 'innings_wickets_taken >= 3 and ground == \"Kolkata\"'\n",
    "\n",
    "# sorting by player, ground, data, number groups the players together\n",
    "sort_order = ['innings_player', 'ground', 'innings_date', 'innings_number']\n",
    "\n",
    "# the reason for get_all instead of get_most is sometimes we want to know all the top players that satisfy the condition\n",
    "# we the get_most function gets the innings from the 'indexes' column\n",
    "# look at the code inside the get_most function to see how it looks up the indexes from the original dataset\n",
    "results = get_all_consecutive(criteria, df.copy(), sort_order)\n",
    "results.sort_values(by=['maximum'], ascending=False, inplace=True)\n",
    "print(results.head(10)['maximum'])"
   ]
  },
  {
   "cell_type": "markdown",
   "metadata": {},
   "source": [
    "What about in a country? Let's see which bowlers have taken 3 or more wickets in a row in England. To get a whole country, all we really have to go on is the grounds, so we can build up a query to check `or` each of those grounds. Like below:"
   ]
  },
  {
   "cell_type": "code",
   "execution_count": 11,
   "metadata": {},
   "outputs": [
    {
     "name": "stdout",
     "output_type": "stream",
     "text": [
      "innings_wickets_taken >= 3 and (ground == \"Lord's\" or ground == \"Birmingham\" or ground == \"Manchester\" or ground == \"The Oval\" or ground == \"Sheffield\" or ground == \"Nottingham\" or ground == \"Leeds\")\n",
      "innings_player   \n",
      "GD McGrath      0    6\n",
      "RR Lindwall     0    6\n",
      "T Richardson    0    6\n",
      "GP Swann        0    6\n",
      "SK Warne        0    6\n",
      "D Gough         0    6\n",
      "IT Botham       0    5\n",
      "AV Bedser       0    5\n",
      "SF Barnes       0    5\n",
      "CA Walsh        0    5\n",
      "Name: maximum, dtype: int64\n"
     ]
    }
   ],
   "source": [
    "# we need to get all the english grounds out of our dataset. I might have missed some. I was lazy with this.\n",
    "english_grounds = [\"Lord's\", \"Birmingham\", \"Manchester\", \"The Oval\", \"Sheffield\", \"Nottingham\", \"Leeds\"]\n",
    "\n",
    "# this is how you can build it up programmatically, start with the beginning of the query\n",
    "criteria = '''innings_wickets_taken >= 3 and (ground == '''\n",
    "\n",
    "# this next line is tricky, have to wrap each item in double quotes \"\"\n",
    "criteria += ' or ground == '.join(f'\"{g}\"' for g in english_grounds)\n",
    "\n",
    "# finish it off by closing the brackets\n",
    "criteria += ')'\n",
    "# print so you see that the final criteria looks like\n",
    "print(criteria)\n",
    "\n",
    "# sorting by player, ground, data, number groups the players together\n",
    "sort_order = ['innings_player', 'ground', 'innings_date', 'innings_number']\n",
    "\n",
    "results = get_all_consecutive(criteria, df.copy(), sort_order)\n",
    "# print(results.dropna())\n",
    "results.sort_values(by=['maximum'], ascending=False, inplace=True)\n",
    "\n",
    "# select 'maximum' so you don't have to see the indexes\n",
    "print(results.head(10)['maximum'])"
   ]
  },
  {
   "cell_type": "markdown",
   "metadata": {},
   "source": [
    "Ooh ahh, Glenn McGrath. \n",
    "\n",
    "\n",
    "Okay, now we want to apply our data to *team scores* not just individuals.W ell, the data we downloaded did not have all the indvidual team innings, unfortunately. But the data does exist on statsguru. So, I've modified a scraper that I found online to download the data. You can check out [my repo here](https://github.com/obrasier/statsguru-scraper)"
   ]
  },
  {
   "cell_type": "markdown",
   "metadata": {},
   "source": [
    "But we're going to make a `_team` function, we'll it'll be just like the `_individual` one we did earlier, but have a default `sort_order` that is sensible for teams. That's the only difference. But first we've gotta read the data into pandas."
   ]
  },
  {
   "cell_type": "code",
   "execution_count": 12,
   "metadata": {},
   "outputs": [],
   "source": [
    "all_innings_file = 'data/all_test_innings.csv'\n",
    "all_innings = pd.read_csv(all_innings_file)\n",
    "all_innings.start_date = pd.to_datetime(all_innings.start_date, infer_datetime_format=True)\n",
    "all_innings.runs = pd.to_numeric(all_innings.runs, errors='coerce').astype(\"Int64\")\n"
   ]
  },
  {
   "cell_type": "markdown",
   "metadata": {},
   "source": [
    "In fact, to do the team one, we just call the individual one but pass in the values we want."
   ]
  },
  {
   "cell_type": "code",
   "execution_count": 13,
   "metadata": {},
   "outputs": [],
   "source": [
    "def get_most_consecutive_team(criteria, data=all_innings.copy(), sort_order=['team', 'start_date', 'innings']):\n",
    "    return get_most_consecutive_individual(criteria, data, sort_order)"
   ]
  },
  {
   "cell_type": "markdown",
   "metadata": {},
   "source": [
    "...that was easy.\n",
    "\n",
    "Okay, let's run the fucker and find out who scored the most innings in a row under 200."
   ]
  },
  {
   "cell_type": "code",
   "execution_count": 14,
   "metadata": {},
   "outputs": [
    {
     "name": "stdout",
     "output_type": "stream",
     "text": [
      "21\n",
      "          team score  runs  overs  balls_per_over   rpo  lead  innings result  \\\n",
      "80   Australia   123   123  118.3               4  1.55   105        3   lost   \n",
      "83   Australia   121   121   82.3               4  2.19  -232        2   lost   \n",
      "84   Australia   126   126  111.1               4  1.69  -106        3   lost   \n",
      "86   Australia    68    68   60.2               4  1.68  -366        2   lost   \n",
      "87   Australia   149   149   97.0               4  2.30  -217        3   lost   \n",
      "89   Australia   119   119  113.1               4  1.57    74        2   lost   \n",
      "91   Australia    97    97  107.0               4  1.35   -13        4   lost   \n",
      "93   Australia    84    84   55.1               4  2.28   -67        2   lost   \n",
      "95   Australia   150   150  110.0               4  2.04   -71        4   lost   \n",
      "97   Australia    42    42   37.3               4  1.66   -71        2   lost   \n",
      "99   Australia    82    82   69.2               4  1.76  -126        4   lost   \n",
      "100  Australia   116   116   71.2               4  2.43   116        1    won   \n",
      "102  Australia    60    60   29.2               4  3.05   123        3    won   \n",
      "104  Australia    80    80   90.3               4  1.32    80        1   lost   \n",
      "106  Australia   100   100   69.2               4  2.15  -137        3   lost   \n",
      "108  Australia    81    81   52.2               4  2.31   -91        2   lost   \n",
      "109  Australia    70    70   31.1               4  3.36   -21        3   lost   \n",
      "117  Australia   132   132   86.0               5  1.84   132        1   lost   \n",
      "119  Australia   176   176  140.2               5  1.50   135        3   lost   \n",
      "121  Australia    92    92   65.2               5  1.68    92        1   lost   \n",
      "123  Australia   102   102   60.2               5  2.02    94        3   lost   \n",
      "\n",
      "    opposition      ground start_date  all_out_flag  declared_flag  \n",
      "80   v England  Manchester 1886-07-05             1              0  \n",
      "83   v England      Lord's 1886-07-19             1              0  \n",
      "84   v England      Lord's 1886-07-19             1              0  \n",
      "86   v England    The Oval 1886-08-12             1              0  \n",
      "87   v England    The Oval 1886-08-12             1              0  \n",
      "89   v England      Sydney 1887-01-28             1              0  \n",
      "91   v England      Sydney 1887-01-28             1              0  \n",
      "93   v England      Sydney 1887-02-25             1              0  \n",
      "95   v England      Sydney 1887-02-25             1              0  \n",
      "97   v England      Sydney 1888-02-10             1              0  \n",
      "99   v England      Sydney 1888-02-10             1              0  \n",
      "100  v England      Lord's 1888-07-16             1              0  \n",
      "102  v England      Lord's 1888-07-16             1              0  \n",
      "104  v England    The Oval 1888-08-13             1              0  \n",
      "106  v England    The Oval 1888-08-13             1              0  \n",
      "108  v England  Manchester 1888-08-30             1              0  \n",
      "109  v England  Manchester 1888-08-30             1              0  \n",
      "117  v England      Lord's 1890-07-21             1              0  \n",
      "119  v England      Lord's 1890-07-21             1              0  \n",
      "121  v England    The Oval 1890-08-11             1              0  \n",
      "123  v England    The Oval 1890-08-11             1              0  \n"
     ]
    }
   ],
   "source": [
    "criteria = 'runs < 200'\n",
    "max_value ,results = get_most_consecutive_team(criteria)\n",
    "print(max_value)\n",
    "print(results)"
   ]
  },
  {
   "cell_type": "markdown",
   "metadata": {},
   "source": [
    "Holy fucking shit. For a team with the highest win record, we have by far the worst losing streak. God damn.\n",
    "\n",
    "For whatever reason, maybe recency-bias, you might want to restrict your entire search-space to a particular date range. Maybe we want to find the answer to this question *between 1950 and 1990* or something. This can be done by pre-filtering the data *before* we make the query."
   ]
  },
  {
   "cell_type": "code",
   "execution_count": 15,
   "metadata": {},
   "outputs": [
    {
     "name": "stdout",
     "output_type": "stream",
     "text": [
      "7\n",
      "             team   score  runs  overs  balls_per_over   rpo  lead  innings  \\\n",
      "1530  New Zealand  157/9d   157   80.0               6  1.96   267        3   \n",
      "1638  New Zealand      94    94   69.3               6  1.35  -127        2   \n",
      "1640  New Zealand     137   137   77.3               6  1.76  -205        4   \n",
      "1642  New Zealand      47    47   32.3               6  1.44  -222        2   \n",
      "1643  New Zealand      74    74   50.3               6  1.46  -148        3   \n",
      "1644  New Zealand      67    67   59.1               6  1.13    67        1   \n",
      "1646  New Zealand     129   129  101.2               6  1.27   -71        3   \n",
      "\n",
      "     result     opposition      ground start_date  all_out_flag  declared_flag  \n",
      "1530    won  v West Indies    Auckland 1956-03-09             0              1  \n",
      "1638   lost      v England  Birmingham 1958-06-05             1              0  \n",
      "1640   lost      v England  Birmingham 1958-06-05             1              0  \n",
      "1642   lost      v England      Lord's 1958-06-19             1              0  \n",
      "1643   lost      v England      Lord's 1958-06-19             1              0  \n",
      "1644   lost      v England       Leeds 1958-07-03             1              0  \n",
      "1646   lost      v England       Leeds 1958-07-03             1              0  \n"
     ]
    }
   ],
   "source": [
    "# year, month, day\n",
    "start_date = datetime.datetime(1950, 1, 1)\n",
    "end_date = datetime.datetime(1990, 1, 1)\n",
    "\n",
    "# filter by date,use & (and), and brackets for multiple pre-filtering conditions\n",
    "filtered_data = all_innings[(all_innings.start_date >= start_date) & (all_innings.start_date <= end_date)]\n",
    "criteria = 'runs < 200'\n",
    "max_value ,results = get_most_consecutive_team(criteria, data=filtered_data)\n",
    "print(max_value)\n",
    "print(results)"
   ]
  },
  {
   "cell_type": "markdown",
   "metadata": {},
   "source": [
    "I think we need to drill deeper into this though. Let's get all the occurances."
   ]
  },
  {
   "cell_type": "code",
   "execution_count": 16,
   "metadata": {},
   "outputs": [
    {
     "name": "stdout",
     "output_type": "stream",
     "text": [
      "team           \n",
      "Australia     0    21\n",
      "Bangladesh    0    12\n",
      "South Africa  0    12\n",
      "England       0     8\n",
      "New Zealand   0     7\n",
      "West Indies   0     6\n",
      "Pakistan      0     5\n",
      "India         0     5\n",
      "              1     5\n",
      "Zimbabwe      0     4\n",
      "Sri Lanka     1     4\n",
      "              0     4\n",
      "Afghanistan   0     2\n",
      "              1     2\n",
      "ICC World XI  0     2\n",
      "Ireland       2     1\n",
      "              0     1\n",
      "              1     1\n",
      "Name: maximum, dtype: int64\n"
     ]
    }
   ],
   "source": [
    "criteria = 'runs < 200'\n",
    "sort_order=['team', 'start_date', 'innings']\n",
    "results = get_all_consecutive(criteria, data=all_innings.copy(), sort_order=sort_order)\n",
    "\n",
    "results.sort_values(by=['maximum'], ascending=False, inplace=True)\n",
    "print(results['maximum'])\n"
   ]
  },
  {
   "cell_type": "markdown",
   "metadata": {},
   "source": [
    "One shortcoming of this current implementation is underneath it all I'm calling `get_max_consecutive` for each group. So we only ever discover the maximum number of matches, not all the available matches, as well as the maximum. I can probably be convinced to add this. But I've worked on this for longer than is reasonable already.\n",
    "\n",
    "Okay, extra conditions also works with teams."
   ]
  },
  {
   "cell_type": "code",
   "execution_count": 17,
   "metadata": {},
   "outputs": [
    {
     "name": "stdout",
     "output_type": "stream",
     "text": [
      "9\n",
      "          team score  runs  overs  balls_per_over   rpo  lead  innings result  \\\n",
      "97   Australia    42    42   37.3               4  1.66   -71        2   lost   \n",
      "99   Australia    82    82   69.2               4  1.76  -126        4   lost   \n",
      "100  Australia   116   116   71.2               4  2.43   116        1    won   \n",
      "102  Australia    60    60   29.2               4  3.05   123        3    won   \n",
      "104  Australia    80    80   90.3               4  1.32    80        1   lost   \n",
      "106  Australia   100   100   69.2               4  2.15  -137        3   lost   \n",
      "108  Australia    81    81   52.2               4  2.31   -91        2   lost   \n",
      "109  Australia    70    70   31.1               4  3.36   -21        3   lost   \n",
      "117  Australia   132   132   86.0               5  1.84   132        1   lost   \n",
      "\n",
      "    opposition      ground start_date  all_out_flag  declared_flag  \n",
      "97   v England      Sydney 1888-02-10             1              0  \n",
      "99   v England      Sydney 1888-02-10             1              0  \n",
      "100  v England      Lord's 1888-07-16             1              0  \n",
      "102  v England      Lord's 1888-07-16             1              0  \n",
      "104  v England    The Oval 1888-08-13             1              0  \n",
      "106  v England    The Oval 1888-08-13             1              0  \n",
      "108  v England  Manchester 1888-08-30             1              0  \n",
      "109  v England  Manchester 1888-08-30             1              0  \n",
      "117  v England      Lord's 1890-07-21             1              0  \n"
     ]
    }
   ],
   "source": [
    "criteria = 'runs < 150 and all_out_flag == 1'\n",
    "max_value, results = get_most_consecutive_team(criteria)\n",
    "print(max_value)\n",
    "print(results)\n"
   ]
  },
  {
   "cell_type": "markdown",
   "metadata": {},
   "source": [
    "LOL. Australia really sucked in 1888. \n",
    "\n",
    "Okay, just out of curiosity, which team was not out most in a row."
   ]
  },
  {
   "cell_type": "code",
   "execution_count": 18,
   "metadata": {},
   "outputs": [
    {
     "name": "stdout",
     "output_type": "stream",
     "text": [
      "9\n",
      "             team   score  runs  overs  balls_per_over   rpo  lead  innings  \\\n",
      "5550  New Zealand  196/1d   196   73.0               6  2.68   101        3   \n",
      "5564  New Zealand  407/4d   407  112.2               6  3.62   303        2   \n",
      "5654  New Zealand  287/8d   287   88.4               6  3.23  -199        2   \n",
      "5656  New Zealand   274/6   274   57.0               6  4.80    -9        4   \n",
      "5677  New Zealand   243/7   243  105.2               6  2.30  -315        2   \n",
      "5682  New Zealand  534/9d   534  162.5               6  3.27   534        1   \n",
      "5684  New Zealand  256/9d   256   71.0               6  3.60   439        3   \n",
      "5698  New Zealand  365/9d   365   77.1               6  4.73   365        1   \n",
      "5705  New Zealand  341/6d   341   88.0               6  3.87   209        2   \n",
      "\n",
      "     result    opposition        ground start_date  all_out_flag  \\\n",
      "5550   draw    v Pakistan  Christchurch 2001-03-15             0   \n",
      "5564    won    v Pakistan      Hamilton 2001-03-27             0   \n",
      "5654   draw   v Australia      Brisbane 2001-11-08             0   \n",
      "5656   draw   v Australia      Brisbane 2001-11-08             0   \n",
      "5677   draw   v Australia        Hobart 2001-11-22             0   \n",
      "5682   draw   v Australia         Perth 2001-11-30             0   \n",
      "5684   draw   v Australia         Perth 2001-11-30             0   \n",
      "5698    won  v Bangladesh      Hamilton 2001-12-18             0   \n",
      "5705    won  v Bangladesh    Wellington 2001-12-26             0   \n",
      "\n",
      "      declared_flag  \n",
      "5550              1  \n",
      "5564              1  \n",
      "5654              1  \n",
      "5656              0  \n",
      "5677              0  \n",
      "5682              1  \n",
      "5684              1  \n",
      "5698              1  \n",
      "5705              1  \n"
     ]
    }
   ],
   "source": [
    "criteria = 'all_out_flag == 0'\n",
    "max_value, results = get_most_consecutive_team(criteria)\n",
    "print(max_value)\n",
    "print(results)"
   ]
  },
  {
   "cell_type": "markdown",
   "metadata": {},
   "source": [
    "And everyone's second favourite team, New Zealand, coming home with the goods. I'm going to leave it there. If you see something wrong with my data or if you have any features you'd like to see. Please let me know. \n",
    "\n",
    "You can download the jupyter notebook of a modified version of this blog post. I've edited it a little but if you just wanna run the code, you can pretty easily. Just google how to install `pandas` and `jupyter notebook`, I'm not your mother."
   ]
  }
 ],
 "metadata": {
  "kernelspec": {
   "display_name": "Python 3",
   "language": "python",
   "name": "python3"
  },
  "language_info": {
   "codemirror_mode": {
    "name": "ipython",
    "version": 3
   },
   "file_extension": ".py",
   "mimetype": "text/x-python",
   "name": "python",
   "nbconvert_exporter": "python",
   "pygments_lexer": "ipython3",
   "version": "3.7.5"
  }
 },
 "nbformat": 4,
 "nbformat_minor": 4
}
